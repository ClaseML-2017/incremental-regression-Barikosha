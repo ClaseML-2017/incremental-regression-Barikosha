{
 "cells": [
  {
   "cell_type": "code",
   "execution_count": 11,
   "metadata": {
    "collapsed": true
   },
   "outputs": [],
   "source": [
    "import pandas as pd\n",
    "import numpy as np\n",
    "import csv\n",
    "import random as rnd\n",
    "from sklearn.model_selection import train_test_split\n",
    "import matplotlib.pyplot as plt\n",
    "from sklearn import preprocessing"
   ]
  },
  {
   "cell_type": "code",
   "execution_count": 12,
   "metadata": {},
   "outputs": [],
   "source": [
    "#read data\n",
    "df = pd.read_csv('regLin.csv')\n",
    "#divide data\n",
    "X_train, X_test, Y_train, Y_test = train_test_split(df[df.columns[0:-1]],df[[df.columns[-1]]], train_size=0.75)\n",
    "#convert dataframes into arrays\n",
    "X_train=np.asarray(X_train)\n",
    "X_test=np.asarray(X_test)\n",
    "Y_train=np.asarray(Y_train)\n",
    "Y_test=np.asarray(Y_test)"
   ]
  },
  {
   "cell_type": "code",
   "execution_count": 13,
   "metadata": {
    "collapsed": true
   },
   "outputs": [],
   "source": [
    "# Model(X)\n",
    "def V(w,X):\n",
    "    return X.dot(w[1:]) +w[0] "
   ]
  },
  {
   "cell_type": "code",
   "execution_count": 14,
   "metadata": {
    "collapsed": true
   },
   "outputs": [],
   "source": [
    "#Adjusting the weights\n",
    "def adjust(X,y,w,eta): \n",
    "    for i in range(len(X)):\n",
    "        error=y[i]-V(w,X[i])\n",
    "        w[0]=w[0]+eta*(error)\n",
    "        w[1:]=w[1:]+eta*(error*X[i])\n",
    "    return w"
   ]
  },
  {
   "cell_type": "code",
   "execution_count": 15,
   "metadata": {
    "collapsed": true
   },
   "outputs": [],
   "source": [
    "def calcError(X,y,w,w0):\n",
    "    return np.mean((y-X.dot(w)-w0)**2)"
   ]
  },
  {
   "cell_type": "markdown",
   "metadata": {},
   "source": [
    "# Without standardizing of X and Y"
   ]
  },
  {
   "cell_type": "code",
   "execution_count": 16,
   "metadata": {},
   "outputs": [
    {
     "name": "stdout",
     "output_type": "stream",
     "text": [
      "[ nan  nan] nan\n"
     ]
    },
    {
     "name": "stderr",
     "output_type": "stream",
     "text": [
      "/Users/Varvar/Desktop/env1/pythonenv1/lib/python2.7/site-packages/ipykernel_launcher.py:6: RuntimeWarning: overflow encountered in multiply\n",
      "  \n",
      "/Users/Varvar/Desktop/env1/pythonenv1/lib/python2.7/site-packages/ipykernel_launcher.py:6: RuntimeWarning: invalid value encountered in add\n",
      "  \n"
     ]
    }
   ],
   "source": [
    "w=np.asarray([rnd.random() for i in range(1+len(X_train[0]))])\n",
    "eta = 0.05\n",
    "\n",
    "for i in range(len(w)):\n",
    "    w=adjust(X_train,Y_train,w,eta)\n",
    "    \n",
    "print w, calcError(X_train,Y_train.flatten(),w[1:],w[0])   "
   ]
  },
  {
   "cell_type": "markdown",
   "metadata": {},
   "source": [
    "# Standardized data"
   ]
  },
  {
   "cell_type": "code",
   "execution_count": 17,
   "metadata": {
    "collapsed": true
   },
   "outputs": [],
   "source": [
    "#standardize X and Y\n",
    "scaler = preprocessing.StandardScaler().fit(X_train)\n",
    "X_train=scaler.transform(X_train)\n",
    "X_test=scaler.transform(X_test)\n",
    "\n",
    "\n",
    "scaler = preprocessing.StandardScaler().fit(Y_train)\n",
    "Y_train=scaler.transform(Y_train)\n",
    "Y_test=scaler.transform(Y_test)"
   ]
  },
  {
   "cell_type": "markdown",
   "metadata": {},
   "source": [
    "eta = 0.05"
   ]
  },
  {
   "cell_type": "code",
   "execution_count": 18,
   "metadata": {},
   "outputs": [
    {
     "name": "stdout",
     "output_type": "stream",
     "text": [
      "[ 0.02782217  0.97871362] 0.0539910818308\n"
     ]
    }
   ],
   "source": [
    "w=np.asarray([rnd.random() for i in range(1+len(X_train[0]))])\n",
    "eta = 0.05\n",
    "\n",
    "for i in range(len(w)):\n",
    "    w=adjust(X_train,Y_train,w,eta)\n",
    "    \n",
    "print w, calcError(X_train,Y_train.flatten(),w[1:],w[0])   "
   ]
  },
  {
   "cell_type": "markdown",
   "metadata": {},
   "source": [
    "eta = 0.1"
   ]
  },
  {
   "cell_type": "code",
   "execution_count": 19,
   "metadata": {},
   "outputs": [
    {
     "name": "stdout",
     "output_type": "stream",
     "text": [
      "[ 0.04202448  0.96842505] 0.0549722607452\n"
     ]
    }
   ],
   "source": [
    "w=np.asarray([rnd.random() for i in range(1+len(X_train[0]))])\n",
    "eta = 0.1\n",
    "\n",
    "for i in range(len(w)):\n",
    "    w=adjust(X_train,Y_train,w,eta)\n",
    "    \n",
    "print w, calcError(X_train,Y_train.flatten(),w[1:],w[0])   "
   ]
  },
  {
   "cell_type": "markdown",
   "metadata": {},
   "source": [
    "eta = 1"
   ]
  },
  {
   "cell_type": "code",
   "execution_count": 20,
   "metadata": {},
   "outputs": [
    {
     "name": "stdout",
     "output_type": "stream",
     "text": [
      "[ -1.79615378 -43.03452565] 1939.94556252\n"
     ]
    }
   ],
   "source": [
    "w=np.asarray([rnd.random() for i in range(1+len(X_train[0]))])\n",
    "eta = 1\n",
    "\n",
    "for i in range(len(w)):\n",
    "    w=adjust(X_train,Y_train,w,eta)\n",
    "    \n",
    "print w, calcError(X_train,Y_train.flatten(),w[1:],w[0])   "
   ]
  },
  {
   "cell_type": "markdown",
   "metadata": {},
   "source": [
    "# Result"
   ]
  },
  {
   "cell_type": "markdown",
   "metadata": {},
   "source": [
    "We can see that without standardization of X and Y algorithm doesn't work because w become too big. When eta=0.05 the result is the best of all other etas, but it takes a bit more steps to get to the optimal point. Error for eta=0.1 is not significantly worse than for eta=0.05. However, for eta=1 error becomes too big. As long as the steps are too big we skip optimal point and go futher. "
   ]
  }
 ],
 "metadata": {
  "kernelspec": {
   "display_name": "Python 2",
   "language": "python",
   "name": "python2"
  },
  "language_info": {
   "codemirror_mode": {
    "name": "ipython",
    "version": 2
   },
   "file_extension": ".py",
   "mimetype": "text/x-python",
   "name": "python",
   "nbconvert_exporter": "python",
   "pygments_lexer": "ipython2",
   "version": "2.7.10"
  }
 },
 "nbformat": 4,
 "nbformat_minor": 2
}
